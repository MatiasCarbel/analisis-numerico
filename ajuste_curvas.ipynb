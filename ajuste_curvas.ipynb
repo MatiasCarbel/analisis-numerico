{
 "cells": [
  {
   "cell_type": "markdown",
   "metadata": {},
   "source": [
    "## AJUSTES DE CURVAS\n",
    "# -Regresion lineal por minimos cuadrados \n"
   ]
  },
  {
   "cell_type": "code",
   "execution_count": 3,
   "metadata": {},
   "outputs": [
    {
     "ename": "ModuleNotFoundError",
     "evalue": "No module named 'pandas'",
     "output_type": "error",
     "traceback": [
      "\u001b[0;31m---------------------------------------------------------------------------\u001b[0m",
      "\u001b[0;31mModuleNotFoundError\u001b[0m                       Traceback (most recent call last)",
      "\u001b[1;32m/Users/manuferreras/Desktop/Projects/analisis-numerico/ajuste_curvas.ipynb Cell 2\u001b[0m line \u001b[0;36m2\n\u001b[1;32m      <a href='vscode-notebook-cell:/Users/manuferreras/Desktop/Projects/analisis-numerico/ajuste_curvas.ipynb#W1sZmlsZQ%3D%3D?line=0'>1</a>\u001b[0m \u001b[39m#import de librerias\u001b[39;00m\n\u001b[0;32m----> <a href='vscode-notebook-cell:/Users/manuferreras/Desktop/Projects/analisis-numerico/ajuste_curvas.ipynb#W1sZmlsZQ%3D%3D?line=1'>2</a>\u001b[0m \u001b[39mimport\u001b[39;00m \u001b[39mpandas\u001b[39;00m \u001b[39mas\u001b[39;00m \u001b[39mpd\u001b[39;00m\n\u001b[1;32m      <a href='vscode-notebook-cell:/Users/manuferreras/Desktop/Projects/analisis-numerico/ajuste_curvas.ipynb#W1sZmlsZQ%3D%3D?line=2'>3</a>\u001b[0m \u001b[39mimport\u001b[39;00m \u001b[39mnumpy\u001b[39;00m \u001b[39mas\u001b[39;00m \u001b[39mnp\u001b[39;00m\n\u001b[1;32m      <a href='vscode-notebook-cell:/Users/manuferreras/Desktop/Projects/analisis-numerico/ajuste_curvas.ipynb#W1sZmlsZQ%3D%3D?line=3'>4</a>\u001b[0m \u001b[39mimport\u001b[39;00m \u001b[39mmatplotlib\u001b[39;00m\u001b[39m.\u001b[39;00m\u001b[39mpyplot\u001b[39;00m \u001b[39mas\u001b[39;00m \u001b[39mplt\u001b[39;00m\n",
      "\u001b[0;31mModuleNotFoundError\u001b[0m: No module named 'pandas'"
     ]
    }
   ],
   "source": [
    "#import de librerias\n",
    "import pandas as pd\n",
    "import numpy as np\n",
    "import matplotlib.pyplot as plt\n",
    "import matplotlib.axes as ax\n"
   ]
  },
  {
   "cell_type": "code",
   "execution_count": 4,
   "metadata": {},
   "outputs": [
    {
     "ename": "ModuleNotFoundError",
     "evalue": "No module named 'numpy'",
     "output_type": "error",
     "traceback": [
      "\u001b[0;31m---------------------------------------------------------------------------\u001b[0m",
      "\u001b[0;31mModuleNotFoundError\u001b[0m                       Traceback (most recent call last)",
      "\u001b[1;32m/Users/manuferreras/Desktop/Projects/analisis-numerico/ajuste_curvas.ipynb Cell 3\u001b[0m line \u001b[0;36m1\n\u001b[0;32m----> <a href='vscode-notebook-cell:/Users/manuferreras/Desktop/Projects/analisis-numerico/ajuste_curvas.ipynb#W4sZmlsZQ%3D%3D?line=0'>1</a>\u001b[0m \u001b[39mimport\u001b[39;00m \u001b[39mnumpy\u001b[39;00m \u001b[39mas\u001b[39;00m \u001b[39mnp\u001b[39;00m\n\u001b[1;32m      <a href='vscode-notebook-cell:/Users/manuferreras/Desktop/Projects/analisis-numerico/ajuste_curvas.ipynb#W4sZmlsZQ%3D%3D?line=1'>2</a>\u001b[0m \u001b[39mimport\u001b[39;00m \u001b[39mmatplotlib\u001b[39;00m\u001b[39m.\u001b[39;00m\u001b[39mpyplot\u001b[39;00m \u001b[39mas\u001b[39;00m \u001b[39mplt\u001b[39;00m\n\u001b[1;32m      <a href='vscode-notebook-cell:/Users/manuferreras/Desktop/Projects/analisis-numerico/ajuste_curvas.ipynb#W4sZmlsZQ%3D%3D?line=3'>4</a>\u001b[0m \u001b[39mdef\u001b[39;00m \u001b[39mestimar_coeficientes\u001b[39m(x, y):\n\u001b[1;32m      <a href='vscode-notebook-cell:/Users/manuferreras/Desktop/Projects/analisis-numerico/ajuste_curvas.ipynb#W4sZmlsZQ%3D%3D?line=4'>5</a>\u001b[0m     \u001b[39m# número de observaciones/puntos\u001b[39;00m\n",
      "\u001b[0;31mModuleNotFoundError\u001b[0m: No module named 'numpy'"
     ]
    }
   ],
   "source": [
    "import numpy as np\n",
    "import matplotlib.pyplot as plt\n",
    "\n",
    "def estimar_coeficientes(x, y):\n",
    "    # número de observaciones/puntos\n",
    "    n = np.size(x)\n",
    "  \n",
    "    # media de los vectores x e y\n",
    "    m_x = np.mean(x)\n",
    "    m_y = np.mean(y)\n",
    "  \n",
    "    # calcular la covarianza cruzada y la varianza de x\n",
    "    SS_xy = np.sum(y * x) - n * m_y * m_x\n",
    "    SS_xx = np.sum(x * x) - n * m_x * m_x\n",
    "  \n",
    "    # calcular los coeficientes de la regresión\n",
    "    b_1 = SS_xy / SS_xx\n",
    "    b_0 = m_y - b_1 * m_x\n",
    "  \n",
    "    return (b_0, b_1)\n",
    "  \n",
    "def trazar_linea_de_regresion(x, y, b):\n",
    "    # trazar los puntos reales como un gráfico de dispersión\n",
    "    plt.scatter(x, y, color=\"m\",\n",
    "                marker=\"o\", s=30)\n",
    "  \n",
    "    # vector de respuesta predicha\n",
    "    y_pred = b[0] + b[1] * x\n",
    "  \n",
    "    # trazar la línea de regresión\n",
    "    plt.plot(x, y_pred, color=\"g\")\n",
    "  \n",
    "    # agregar etiquetas\n",
    "    plt.xlabel('x')\n",
    "    plt.ylabel('y')\n",
    "  \n",
    "    # función para mostrar el gráfico\n",
    "    plt.show()\n",
    "  \n",
    "def main():\n",
    "    # observaciones / datos\n",
    "    x = np.array([1, 2, 3, 4, 5, 6, 7])\n",
    "    y = np.array([0.5, 2.5, 2, 4, 3.5, 6, 5.5])\n",
    "  \n",
    "    # estimar coeficientes\n",
    "    b = estimar_coeficientes(x, y)\n",
    "    print(\"Coeficientes estimados:\\na0 = {:.4f}  \\na1 = {:.4f}\".format(b[0], b[1]))\n",
    "  \n",
    "    print(\"y = {:.4f}x + {:.4f}\".format(b[1], b[0]))\n",
    "    # trazar la línea de regresión\n",
    "    trazar_linea_de_regresion(x, y, b)\n",
    "  \n",
    "if __name__ == \"__main__\":\n",
    "    main()\n"
   ]
  },
  {
   "cell_type": "code",
   "execution_count": null,
   "metadata": {},
   "outputs": [
    {
     "name": "stdout",
     "output_type": "stream",
     "text": [
      "Coeficientes estimados:\n",
      "a0 = 0.0714  \n",
      "a1 = 0.8393\n",
      "y = 0.8393x + 0.0714\n"
     ]
    },
    {
     "data": {
      "image/png": "[encoded data removed]",
      "text/plain": [
       "<Figure size 640x480 with 1 Axes>"
      ]
     },
     "metadata": {},
     "output_type": "display_data"
    },
    {
     "name": "stdout",
     "output_type": "stream",
     "text": [
      "\n",
      " Tabla de valores en cada iteración:\n",
      "          x     y    x^2    x*y\n",
      "0       1.0   0.5    1.0    0.5\n",
      "1       2.0   2.5    4.0    5.0\n",
      "2       3.0   2.0    9.0    6.0\n",
      "3       4.0   4.0   16.0   16.0\n",
      "4       5.0   3.5   25.0   17.5\n",
      "5       6.0   6.0   36.0   36.0\n",
      "6       7.0   5.5   49.0   38.5\n",
      "Total  28.0  24.0  140.0  119.5\n"
     ]
    }
   ],
   "source": [
    "import numpy as np\n",
    "import matplotlib.pyplot as plt\n",
    "import pandas as pd\n",
    "\n",
    "def estimar_coeficientes(x, y):\n",
    "    n = np.size(x)\n",
    "    m_x = np.mean(x)\n",
    "    m_y = np.mean(y)\n",
    "    SS_xy = np.sum(y * x) - n * m_y * m_x\n",
    "    SS_xx = np.sum(x * x) - n * m_x * m_x\n",
    "    b_1 = SS_xy / SS_xx\n",
    "    b_0 = m_y - b_1 * m_x\n",
    "    return (b_0, b_1)\n",
    "\n",
    "def trazar_linea_de_regresion(x, y, b):\n",
    "    plt.scatter(x, y, color=\"m\", marker=\"o\", s=30)\n",
    "    y_pred = b[0] + b[1] * x\n",
    "    plt.plot(x, y_pred, color=\"g\")\n",
    "    plt.xlabel('x')\n",
    "    plt.ylabel('y')\n",
    "    plt.show()\n",
    "\n",
    "def main():\n",
    "    x = np.array([1, 2, 3, 4, 5, 6, 7])\n",
    "    y = np.array([0.5, 2.5, 2, 4, 3.5, 6, 5.5])\n",
    "    b = estimar_coeficientes(x, y)\n",
    "    print(\"Coeficientes estimados:\\na0 = {:.4f}  \\na1 = {:.4f}\".format(b[0], b[1]))\n",
    "    print(\"y = {:.4f}x + {:.4f}\".format(b[1], b[0]))\n",
    "    trazar_linea_de_regresion(x, y, b)\n",
    "\n",
    "    # Crear un DataFrame para mostrar los valores en cada iteración\n",
    "    df = pd.DataFrame({'x': x, 'y': y, 'x^2': x**2, 'x*y': x * y})\n",
    "    df.loc['Total', 'x'] = df['x'].sum()\n",
    "    df.loc['Total', 'y'] = df['y'].sum()\n",
    "    df.loc['Total', 'x^2'] = df['x^2'].sum()\n",
    "    df.loc['Total', 'x*y'] = df['x*y'].sum()\n",
    "        \n",
    "    print(\"\\n Tabla de valores en cada iteración:\")\n",
    "    print(df)\n",
    "\n",
    "\n",
    "if __name__ == \"__main__\":\n",
    "    main()\n"
   ]
  },
  {
   "cell_type": "markdown",
   "metadata": {},
   "source": [
    "# INTERPOLACIÓN POLINOMIAL DE NEWTON"
   ]
  },
  {
   "cell_type": "code",
   "execution_count": 24,
   "metadata": {},
   "outputs": [
    {
     "name": "stdout",
     "output_type": "stream",
     "text": [
      "Coeficientes del polinomio interpolante de Newton: \n",
      "{'A': -4.0, 'B': 0.6486999999999998, 'C': 0.21045000000000025, 'D': 0.04548333333333321}\n",
      "\n",
      "Valuado en 1.15: \n",
      "      x     Valor\n",
      "0  1.15 -3.224361\n"
     ]
    }
   ],
   "source": [
    "import numpy as np\n",
    "import pandas as pd\n",
    "\n",
    "array=[]\n",
    "\n",
    "def interpolacion_polinomial_newton(x, y):\n",
    "    m = len(x)\n",
    "    x = np.copy(x)\n",
    "    a = np.copy(y)\n",
    "    for k in range(1, m):\n",
    "        a[k:m] = (a[k:m] - a[k - 1]) / (x[k:m] - x[k - 1])\n",
    "    return a\n",
    "\n",
    "\n",
    "def newton_polynomial(x_data, y_data, x):\n",
    "    \n",
    "    a = interpolacion_polinomial_newton(x_data, y_data)\n",
    "    n = len(x_data) - 1\n",
    "    p_values = []\n",
    "\n",
    "    for eval_point in x:\n",
    "        p = a[n]\n",
    "        for k in range(1, n + 1):\n",
    "            p = a[n - k] + (eval_point - x_data[n - k]) * p\n",
    "        p_values.append(p)\n",
    "\n",
    "    interpolated_data = pd.DataFrame({'x': x, 'Valor': p_values})\n",
    "    return interpolated_data\n",
    "\n",
    "a =interpolacion_polinomial_newton([0, 1, 2, 3], [-4, -3.3513, -2.2817, -0.5183])\n",
    "print(\"Coeficientes del polinomio interpolante de Newton: \")\n",
    "b= {\"A\":a[0],\"B\":a[1],\"C\":a[2],\"D\":a[3]}\n",
    "print(b)\n",
    "\n",
    "interpolated_data_table = newton_polynomial([0, 1, 2, 3], [-4, -3.3513, -2.2817, -0.5183], [1.15])\n",
    "print(\"\\nValuado en 1.15: \")\n",
    "print(interpolated_data_table)\n",
    "\n"
   ]
  },
  {
   "cell_type": "markdown",
   "metadata": {},
   "source": [
    "# Polinomio de Lagrange"
   ]
  },
  {
   "cell_type": "code",
   "execution_count": 5,
   "metadata": {},
   "outputs": [
    {
     "ename": "ModuleNotFoundError",
     "evalue": "No module named 'numpy'",
     "output_type": "error",
     "traceback": [
      "\u001b[0;31m---------------------------------------------------------------------------\u001b[0m",
      "\u001b[0;31mModuleNotFoundError\u001b[0m                       Traceback (most recent call last)",
      "\u001b[1;32m/Users/manuferreras/Desktop/Projects/analisis-numerico/ajuste_curvas.ipynb Cell 8\u001b[0m line \u001b[0;36m1\n\u001b[0;32m----> <a href='vscode-notebook-cell:/Users/manuferreras/Desktop/Projects/analisis-numerico/ajuste_curvas.ipynb#X20sZmlsZQ%3D%3D?line=0'>1</a>\u001b[0m \u001b[39mimport\u001b[39;00m \u001b[39mnumpy\u001b[39;00m \u001b[39mas\u001b[39;00m \u001b[39mnp\u001b[39;00m\n\u001b[1;32m      <a href='vscode-notebook-cell:/Users/manuferreras/Desktop/Projects/analisis-numerico/ajuste_curvas.ipynb#X20sZmlsZQ%3D%3D?line=1'>2</a>\u001b[0m \u001b[39mimport\u001b[39;00m \u001b[39mmatplotlib\u001b[39;00m\u001b[39m.\u001b[39;00m\u001b[39mpyplot\u001b[39;00m \u001b[39mas\u001b[39;00m \u001b[39mplt\u001b[39;00m\n\u001b[1;32m      <a href='vscode-notebook-cell:/Users/manuferreras/Desktop/Projects/analisis-numerico/ajuste_curvas.ipynb#X20sZmlsZQ%3D%3D?line=2'>3</a>\u001b[0m \u001b[39mimport\u001b[39;00m \u001b[39msys\u001b[39;00m\n",
      "\u001b[0;31mModuleNotFoundError\u001b[0m: No module named 'numpy'"
     ]
    }
   ],
   "source": [
    "import numpy as np\n",
    "import matplotlib.pyplot as plt\n",
    "import sys\n",
    "import sympy as sp\n",
    "\n",
    "x = sp.Symbol('x')\n",
    "points = [(0,1),(1,0.765198),(2,0.223891),(3,-0.260052)]\n",
    "l = [\"L0\",\"L1\",\"L2\",\"L3\"]\n",
    "n = len(points)\n",
    "\n",
    "def main():\n",
    "\tP = lagrange()\n",
    "\tcolor = ['b','g','r','m','c']\n",
    "\tfor i in range(4):\n",
    "\t\tLi = sp.simplify(g(i))\n",
    "\t\tprint(\"L\"+str(i)+\" : \" + str(sp.expand(Li)))\n",
    "\t\tplot(Li,color[i],l[i])\n",
    "\n",
    "\tprint(\"P3(x) : \" + str(sp.expand(P)))\n",
    "\tplot(P,color[4],\"p3(x)\")\n",
    "\n",
    "\tx_list = []\n",
    "\ty_list = []\n",
    "\tfor x_p, y_p in points:\n",
    "\t\tx_list.append(x_p)\n",
    "\t\ty_list.append(y_p)\n",
    "\tplt.plot(x_list, y_list,  'ro',label = \"data points\")\n",
    "\n",
    "\tplt.xlabel(\"X - Axis\")\n",
    "\tplt.ylabel(\"Y - Axis\")\n",
    "\tplt.xlim(-1, 4)\n",
    "\tplt.ylim(-2, 4)\n",
    "\tplt.legend(loc='upper center',numpoints = 1)\n",
    "\tplt.show()\n",
    "\t\n",
    "\n",
    "def plot(f,color,la):\n",
    "\tt = np.arange(-1,4,0.01)\n",
    "\ty = [ f.evalf(subs = {x:i}) for i in t]\n",
    "\tplot = plt.plot( t, y,color,label = la,linewidth=1.5)\n",
    "\n",
    "def g(i):\t\t\t\n",
    "\ttot_mul = 1\n",
    "\tfor j in xrange(n):\n",
    "\t\tif i != j:\n",
    "\t\t\txj, yj = points[j]\n",
    "\t\t\ttot_mul *= (x - xj) / float(points[i][0] - xj)\n",
    "\t\t\n",
    "\treturn tot_mul\n",
    "\n",
    "def lagrange():\n",
    "\ttotal = 0\n",
    "\tfor i in xrange(n):\n",
    "\t\ttotal += points[i][1] * g(i)\n",
    "\ttotal = (sp.simplify(total))\n",
    "\treturn total\n",
    "\n",
    "main()"
   ]
  },
  {
   "cell_type": "markdown",
   "metadata": {},
   "source": [
    "# Trazadora Cubica\n",
    "\n",
    "\n"
   ]
  },
  {
   "cell_type": "code",
   "execution_count": null,
   "metadata": {},
   "outputs": [
    {
     "name": "stdout",
     "output_type": "stream",
     "text": [
      "   X  Y         B         C         D\n",
      "0  0  0  1.822967  0.000000 -0.822967\n",
      "1  1  1 -0.645933 -2.468900  2.114833\n",
      "2  2  0  0.760766  3.875598 -2.636364\n",
      "3  3  2  0.602871 -4.033493  2.430622\n",
      "4  4  1 -0.172249  3.258373 -1.086124\n",
      "5  5  3  0.000000  0.000000  0.000000\n"
     ]
    }
   ],
   "source": [
    "import numpy as np\n",
    "import matplotlib.pyplot as plt\n",
    "import pandas as pd\n",
    "\n",
    "\n",
    "def cubic_spline_interpolation(x, y):\n",
    "    n = len(x)     # Obtener el número de puntos de datos\n",
    "    h = np.diff(x)     # Calcular las diferencias entre puntos adyacentes en el eje x\n",
    "    alpha = np.zeros(n)    # Inicializar un arreglo para almacenar los coeficientes 'alpha'\n",
    "\n",
    "    # Calcular los coeficientes 'alpha' para cada punto interno\n",
    "    for i in range(1, n - 1):\n",
    "        alpha[i] = 3.0/h[i] * (y[i+1] - y[i]) - 3.0/h[i-1] * (y[i] - y[i-1])\n",
    "    \n",
    "    \n",
    "    # Inicializar arreglos para 'l', 'mu', y 'z'\n",
    "    l = np.zeros(n)\n",
    "    mu = np.zeros(n)\n",
    "    z = np.zeros(n)\n",
    "    \n",
    "    # Inicializar valores iniciales para 'l', 'mu', y 'z'\n",
    "    l[0] = 1.0\n",
    "    mu[0] = 0.0\n",
    "    z[0] = 0.0\n",
    "    \n",
    "    # Calcular 'l', 'mu', y 'z' para resolver el sistema tridiagonal\n",
    "    for i in range(1, n - 1):\n",
    "        l[i] = 2.0 * (x[i+1] - x[i-1]) - h[i-1] * mu[i-1]\n",
    "        mu[i] = h[i] / l[i]\n",
    "        z[i] = (alpha[i] - h[i-1] * z[i-1]) / l[i]\n",
    "    \n",
    "    # Condiciones de frontera\n",
    "    l[n-1] = 1.0\n",
    "    z[n-1] = 0.0\n",
    "\n",
    "    # Inicializar arreglos para 'c', 'b', y 'd'\n",
    "    c = np.zeros(n)\n",
    "    b = np.zeros(n)\n",
    "    d = np.zeros(n)\n",
    "    c[n-1] = 0.0\n",
    "    \n",
    "    # Calcular los coeficientes 'c', 'b', y 'd' de la spline cúbica\n",
    "    for j in range(n - 2, -1, -1):\n",
    "        c[j] = z[j] - mu[j] * c[j+1]\n",
    "        b[j] = (y[j+1] - y[j]) / h[j] - h[j] * (c[j+1] + 2.0 * c[j]) / 3.0\n",
    "        d[j] = (c[j+1] - c[j]) / (3.0 * h[j])\n",
    "    \n",
    "    # Devolver los valores de 'y' originales, 'b', 'c', y 'd'\n",
    "    return y, b, c, d\n",
    "\n",
    "# Arrays con los punto de muestra\n",
    "x = np.array([0, 1, 2, 3, 4, 5])\n",
    "y = np.array([0, 1, 0, 2, 1, 3])\n",
    "\n",
    "# Realiza la interpolación por trazadora cúbica\n",
    "y_interp, b, c, d = cubic_spline_interpolation(x, y)\n",
    "\n",
    "# Crea un dataframe para mostrar los valores en cada iteración\n",
    "data = {\n",
    "    \"X\": x,\n",
    "    \"Y\": y,\n",
    "    \"B\": b,\n",
    "    \"C\": c,\n",
    "    \"D\": d\n",
    "}\n",
    "df = pd.DataFrame(data)\n",
    "\n",
    "# Display the DataFrame\n",
    "print(df)"
   ]
  },
  {
   "cell_type": "markdown",
   "metadata": {},
   "source": [
    "# Trazadora cubica natural"
   ]
  },
  {
   "cell_type": "code",
   "execution_count": 11,
   "metadata": {},
   "outputs": [
    {
     "name": "stdout",
     "output_type": "stream",
     "text": [
      "   X       A         B        C         D\n",
      "0  0  1.0000  1.465847  0.00000  0.252353\n",
      "1  1  2.7182  2.222907  0.75706  1.690933\n",
      "2  2  7.3891  8.809827  5.82986 -1.943287\n"
     ]
    },
    {
     "data": {
      "image/png": "[encoded data removed]",
      "text/plain": [
       "<Figure size 800x600 with 1 Axes>"
      ]
     },
     "metadata": {},
     "output_type": "display_data"
    }
   ],
   "source": [
    "import numpy as np\n",
    "import matplotlib.pyplot as plt\n",
    "import pandas as pd\n",
    "\n",
    "def natural_cubic_spline(x, y):\n",
    "    n = len(x)\n",
    "    h = np.diff(x)\n",
    "    \n",
    "    # Create tridiagonal system matrix A and right-hand side vector b\n",
    "    A = np.zeros((n, n))\n",
    "    b = np.zeros(n)\n",
    "    \n",
    "    for i in range(1, n - 1):\n",
    "        A[i, i - 1] = h[i - 1]\n",
    "        A[i, i] = 2.0 * (h[i - 1] + h[i])\n",
    "        A[i, i + 1] = h[i]\n",
    "        b[i] = 3.0 * ((y[i + 1] - y[i]) / h[i] - (y[i] - y[i - 1]) / h[i - 1])\n",
    "    \n",
    "    # Natural boundary conditions\n",
    "    A[0, 0] = 1.0\n",
    "    A[n - 1, n - 1] = 1.0\n",
    "    \n",
    "    # Solve the system for second derivatives (c)\n",
    "    c = np.linalg.solve(A, b)\n",
    "    \n",
    "    # Calculate coefficients a, b, and d\n",
    "    a = y[:-1]\n",
    "    b = (y[1:] - y[:-1]) / h - h * (c[1:] + 2.0 * c[:-1]) / 3.0\n",
    "    d = (c[1:] - c[:-1]) / (3.0 * h)\n",
    "    \n",
    "    return a, b, c, d\n",
    "\n",
    "# Updated data points\n",
    "x = np.array([0, 1, 2, 3])  # x has 4 elements\n",
    "y = np.array([1, 2.7182, 7.3891, 20.0855])  # y has 4 elements\n",
    "\n",
    "# Compute the coefficients of the natural cubic spline\n",
    "a, b, c, d = natural_cubic_spline(x, y)\n",
    "\n",
    "# Generate some points along the curve for plotting\n",
    "x_interp = np.linspace(min(x), max(x), 102)\n",
    "\n",
    "# Ensure y has the same length as x for interpolation\n",
    "y_interp = np.array([])\n",
    "\n",
    "# Create a DataFrame to display the results\n",
    "data = {\n",
    "    \"X\": x[:-1],  # Exclude the last point since we have n-1 segments\n",
    "    \"A\": a,\n",
    "    \"B\": b,\n",
    "    \"C\": c[:-1],  # Exclude the last c value\n",
    "    \"D\": d\n",
    "}\n",
    "df = pd.DataFrame(data)\n",
    "\n",
    "# Display the DataFrame\n",
    "print(df)\n",
    "\n",
    "for i in range(len(x) - 1):\n",
    "    mask = (x_interp >= x[i]) & (x_interp <= x[i + 1])\n",
    "    x_segment = x_interp[mask]\n",
    "    y_segment = a[i] + b[i] * (x_segment - x[i]) + c[i] * (x_segment - x[i])**2 + d[i] * (x_segment - x[i])**3\n",
    "    y_interp = np.concatenate((y_interp, y_segment))\n",
    "\n",
    "# Plot the original data points and the natural cubic spline\n",
    "plt.figure(figsize=(8, 6))\n",
    "plt.scatter(x, y, label=\"Data Points\", color='red')\n",
    "plt.plot(x_interp, y_interp, label=\"Natural Cubic Spline\", linestyle='--')\n",
    "plt.legend()\n",
    "plt.show()\n"
   ]
  },
  {
   "cell_type": "code",
   "execution_count": null,
   "metadata": {},
   "outputs": [],
   "source": []
  }
 ],
 "metadata": {
  "kernelspec": {
   "display_name": "AnalisisNumerico",
   "language": "python",
   "name": "python3"
  },
  "language_info": {
   "codemirror_mode": {
    "name": "ipython",
    "version": 3
   },
   "file_extension": ".py",
   "mimetype": "text/x-python",
   "name": "python",
   "nbconvert_exporter": "python",
   "pygments_lexer": "ipython3",
   "version": "3.10.12"
  },
  "orig_nbformat": 4
 },
 "nbformat": 4,
 "nbformat_minor": 2
}
