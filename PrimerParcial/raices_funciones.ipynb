{
 "cells": [
  {
   "cell_type": "code",
   "execution_count": 3,
   "metadata": {},
   "outputs": [],
   "source": [
    "import pandas as pd\n",
    "import numpy as np\n",
    "from sympy import symbols, Eq, solve, diff, exp"
   ]
  },
  {
   "cell_type": "markdown",
   "metadata": {},
   "source": [
    "# Metodo de la Biseccion\n"
   ]
  },
  {
   "cell_type": "code",
   "execution_count": 2,
   "metadata": {},
   "outputs": [
    {
     "name": "stdout",
     "output_type": "stream",
     "text": [
      "Error default:  0.001\n"
     ]
    },
    {
     "ename": "NameError",
     "evalue": "name 'exp' is not defined",
     "output_type": "error",
     "traceback": [
      "\u001b[0;31m---------------------------------------------------------------------------\u001b[0m",
      "\u001b[0;31mNameError\u001b[0m                                 Traceback (most recent call last)",
      "\u001b[1;32m/home/matias/Documents/GitHub/analisis-numerico/raices_funciones.ipynb Cell 3\u001b[0m line \u001b[0;36m1\n\u001b[1;32m     <a href='vscode-notebook-cell:/home/matias/Documents/GitHub/analisis-numerico/raices_funciones.ipynb#W2sZmlsZQ%3D%3D?line=12'>13</a>\u001b[0m array_error \u001b[39m=\u001b[39m []\n\u001b[1;32m     <a href='vscode-notebook-cell:/home/matias/Documents/GitHub/analisis-numerico/raices_funciones.ipynb#W2sZmlsZQ%3D%3D?line=13'>14</a>\u001b[0m \u001b[39m# Teorema de Bolzano\u001b[39;00m\n\u001b[0;32m---> <a href='vscode-notebook-cell:/home/matias/Documents/GitHub/analisis-numerico/raices_funciones.ipynb#W2sZmlsZQ%3D%3D?line=14'>15</a>\u001b[0m \u001b[39mif\u001b[39;00m f(a)\u001b[39m*\u001b[39mf(b) \u001b[39m>\u001b[39m \u001b[39m0\u001b[39m:\n\u001b[1;32m     <a href='vscode-notebook-cell:/home/matias/Documents/GitHub/analisis-numerico/raices_funciones.ipynb#W2sZmlsZQ%3D%3D?line=15'>16</a>\u001b[0m     \u001b[39mprint\u001b[39m(\u001b[39m\"\u001b[39m\u001b[39mNo hay raíz en el intervalo\u001b[39m\u001b[39m\"\u001b[39m)\n\u001b[1;32m     <a href='vscode-notebook-cell:/home/matias/Documents/GitHub/analisis-numerico/raices_funciones.ipynb#W2sZmlsZQ%3D%3D?line=16'>17</a>\u001b[0m     exit()\n",
      "\u001b[1;32m/home/matias/Documents/GitHub/analisis-numerico/raices_funciones.ipynb Cell 3\u001b[0m line \u001b[0;36m2\n\u001b[1;32m      <a href='vscode-notebook-cell:/home/matias/Documents/GitHub/analisis-numerico/raices_funciones.ipynb#W2sZmlsZQ%3D%3D?line=0'>1</a>\u001b[0m func \u001b[39m=\u001b[39m \u001b[39minput\u001b[39m(\u001b[39m\"\u001b[39m\u001b[39mIngrese la función: \u001b[39m\u001b[39m\"\u001b[39m)\n\u001b[0;32m----> <a href='vscode-notebook-cell:/home/matias/Documents/GitHub/analisis-numerico/raices_funciones.ipynb#W2sZmlsZQ%3D%3D?line=1'>2</a>\u001b[0m f \u001b[39m=\u001b[39m \u001b[39mlambda\u001b[39;00m x: \u001b[39meval\u001b[39;49m(func)\n\u001b[1;32m      <a href='vscode-notebook-cell:/home/matias/Documents/GitHub/analisis-numerico/raices_funciones.ipynb#W2sZmlsZQ%3D%3D?line=2'>3</a>\u001b[0m a \u001b[39m=\u001b[39m \u001b[39mfloat\u001b[39m(\u001b[39minput\u001b[39m(\u001b[39m\"\u001b[39m\u001b[39mIngrese el valor de a:\u001b[39m\u001b[39m\"\u001b[39m))\n\u001b[1;32m      <a href='vscode-notebook-cell:/home/matias/Documents/GitHub/analisis-numerico/raices_funciones.ipynb#W2sZmlsZQ%3D%3D?line=3'>4</a>\u001b[0m b \u001b[39m=\u001b[39m \u001b[39mfloat\u001b[39m(\u001b[39minput\u001b[39m(\u001b[39m\"\u001b[39m\u001b[39mIngrese el valor de b:\u001b[39m\u001b[39m\"\u001b[39m))\n",
      "File \u001b[0;32m<string>:1\u001b[0m\n",
      "\u001b[0;31mNameError\u001b[0m: name 'exp' is not defined"
     ]
    }
   ],
   "source": [
    "\n",
    "func = input(\"Ingrese la función: \")\n",
    "f = lambda x: eval(func)\n",
    "a = float(input(\"Ingrese el valor de a:\"))\n",
    "b = float(input(\"Ingrese el valor de b:\"))\n",
    "e = 10**(-3)\n",
    "print(\"Error default: \",e)\n",
    "array_a = []\n",
    "array_b = []\n",
    "array_c = []\n",
    "array_f_a = []\n",
    "array_f_c = []\n",
    "array_f_a_c = []\n",
    "array_error = []\n",
    "# Teorema de Bolzano\n",
    "if f(a)*f(b) > 0:\n",
    "    print(\"No hay raíz en el intervalo\")\n",
    "    exit()\n",
    "\n",
    "\n",
    "while True:\n",
    "    # busco un punto medio entre a y b\n",
    "    c = (a+b)/2\n",
    "    array_a.append(a)\n",
    "    array_b.append(b)\n",
    "    array_c.append(c)\n",
    "    array_error.append((b-a)/2)\n",
    "    array_f_a.append(f(a))\n",
    "    array_f_c.append(f(c))\n",
    "    array_f_a_c.append(f(a)*f(c))\n",
    "    if f(a)*f(c) < 0:   # si la raiz esta entre a y c cambio b por c\n",
    "        b = c\n",
    "    else: # si la raiz esta entre c y b cambio a por c\n",
    "        a = c\n",
    "    if (b-a)/2 < e: # si el error es menor a e, termino\n",
    "        break\n",
    "\n",
    "print(\"La raíz es: \", c)\n",
    "\n",
    "mydata = {\"a\":array_a, \"b\": array_b, \"c\": array_c, \"f(a)\": array_f_a, \"f(c)\": array_f_c, \"f(a)*f(c)\": array_f_a_c, \"error\": array_error}\n",
    "\n",
    "df = pd.DataFrame(mydata)\n",
    "\n",
    "print(df)\n"
   ]
  },
  {
   "cell_type": "markdown",
   "metadata": {},
   "source": [
    "# Metodo de Punto Fijo"
   ]
  },
  {
   "cell_type": "code",
   "execution_count": 1,
   "metadata": {},
   "outputs": [
    {
     "ename": "ValueError",
     "evalue": "could not convert string to float: ''",
     "output_type": "error",
     "traceback": [
      "\u001b[0;31m---------------------------------------------------------------------------\u001b[0m",
      "\u001b[0;31mValueError\u001b[0m                                Traceback (most recent call last)",
      "\u001b[1;32m/home/matias/Documents/GitHub/analisis-numerico/raices_funciones.ipynb Cell 5\u001b[0m line \u001b[0;36m1\n\u001b[0;32m----> <a href='vscode-notebook-cell:/home/matias/Documents/GitHub/analisis-numerico/raices_funciones.ipynb#W4sZmlsZQ%3D%3D?line=0'>1</a>\u001b[0m a \u001b[39m=\u001b[39m \u001b[39mfloat\u001b[39;49m(\u001b[39minput\u001b[39;49m(\u001b[39m\"\u001b[39;49m\u001b[39mIngrese el valor de a:\u001b[39;49m\u001b[39m\"\u001b[39;49m))\n\u001b[1;32m      <a href='vscode-notebook-cell:/home/matias/Documents/GitHub/analisis-numerico/raices_funciones.ipynb#W4sZmlsZQ%3D%3D?line=1'>2</a>\u001b[0m b \u001b[39m=\u001b[39m \u001b[39mfloat\u001b[39m(\u001b[39minput\u001b[39m(\u001b[39m\"\u001b[39m\u001b[39mIngrese el valor de b:\u001b[39m\u001b[39m\"\u001b[39m))\n\u001b[1;32m      <a href='vscode-notebook-cell:/home/matias/Documents/GitHub/analisis-numerico/raices_funciones.ipynb#W4sZmlsZQ%3D%3D?line=2'>3</a>\u001b[0m x \u001b[39m=\u001b[39m symbols(\u001b[39m'\u001b[39m\u001b[39mx\u001b[39m\u001b[39m'\u001b[39m)\n",
      "\u001b[0;31mValueError\u001b[0m: could not convert string to float: ''"
     ]
    }
   ],
   "source": [
    "a = float(input(\"Ingrese el valor de a:\"))\n",
    "b = float(input(\"Ingrese el valor de b:\"))\n",
    "x = symbols('x')\n",
    "f_x = exp(-x)-5\n",
    "g_x = f_x + x # Proponemos una g(x) que tenga un punto fijo en [a;b]. x = g(x) = f(x) + x\n",
    "e = 10**(-3)\n",
    "Xi_array = []\n",
    "gXi_array = []\n",
    "error_array = []  \n",
    "\n",
    "\n",
    "g_valued_a = g_x.subs(x,a) #g(a)\n",
    "g_valued_b = g_x.subs(x,b) #g(b)\n",
    "\n",
    "\n",
    "if  a<=g_valued_a<=b and a<=g_valued_b<=b : # Primera condicion de convergencia. g(a) y g(b) deben estar en [a;b]\n",
    "    derivative = diff(g_x,x) # Derivada de g(x) en base a x\n",
    "    value = (g_valued_a+g_valued_b)/2 # Valor inicial de x0\n",
    "    if abs(derivative.subs(x,value)) > 1: # Segunda condicion de convergencia. |g'(&)| < 1 con & en [a;b] y que maximice la derivada.\n",
    "        print(\"No  cumple con la condición 2\")\n",
    "        exit()\n",
    "\n",
    "else:\n",
    "    print(\"No  cumple con la condición 1\")\n",
    "    exit()\n",
    "\n",
    "while True:\n",
    "    g_xi = g_x.subs(x,value)\n",
    "    Xi_array.append(value)\n",
    "    gXi_array.append(g_xi)\n",
    "    error_array.append(abs(value-g_xi))\n",
    "    if abs(value-g_xi) < e:\n",
    "        break\n",
    "    value = g_xi\n",
    "\n",
    "\n",
    "\n",
    "print(\"La raíz es: \", value)\n",
    "\n",
    "my_data = {\"Xi\":Xi_array, \"g(Xi)\": gXi_array, \"error\": error_array}\n",
    "df  = pd.DataFrame(my_data)\n",
    "print(df)\n",
    "    "
   ]
  },
  {
   "cell_type": "markdown",
   "metadata": {},
   "source": [
    "# Metodo de Newton Raphson"
   ]
  },
  {
   "cell_type": "code",
   "execution_count": 5,
   "metadata": {},
   "outputs": [
    {
     "name": "stdout",
     "output_type": "stream",
     "text": [
      "La raíz es:  3.21887582486832\n",
      "                 X0                f(X0)            f'(X0)  \\\n",
      "0               5.0     7.18249396070347  6.09124698035174   \n",
      "1  3.82084998623899     1.75595942476099  3.37797971238049   \n",
      "2  3.30102465445109    0.209648188186801  2.60482409409340   \n",
      "3  3.22054006869261  0.00416234110847657  2.50208117055424   \n",
      "4  3.21887651710306  1.73058743779819e-6  2.50000086529372   \n",
      "5  3.21887582486832                    0                 0   \n",
      "\n",
      "                 error  \n",
      "0     1.17915001376101  \n",
      "1    0.519825331787900  \n",
      "2   0.0804845857584744  \n",
      "3  0.00166355158955733  \n",
      "4  6.92234735311104e-7  \n",
      "5  6.92234735311104e-7  \n"
     ]
    }
   ],
   "source": [
    "x = symbols('x')\n",
    "f_x = exp(0.5*x)-5 #* funcion\n",
    "e = 10**(-3)\n",
    "f_valued_X0_array = []\n",
    "derivative_valued_X0_array = []\n",
    "X0_array = []\n",
    "error_array = []\n",
    "\n",
    "\n",
    "X0 = float(input(\"Ingrese el valor de X0: \")) #Valor inicial de x0(initial guess)\n",
    "derivative = diff(f_x,x) # Derivada de f(x) en base a x\n",
    "\n",
    "\n",
    "\n",
    "while True:\n",
    "    f_valued_X0 = f_x.subs(x,X0) #f(X0) \n",
    "    derivative_valued_X0 = derivative.subs(x,X0) #f'(X0)\n",
    "    X1 = X0 - (f_valued_X0/derivative_valued_X0) #nuevo X\n",
    "    f_valued_X0_array.append(f_valued_X0)\n",
    "    derivative_valued_X0_array.append(derivative_valued_X0)\n",
    "    X0_array.append(X0)\n",
    "    error_array.append(abs(X1-X0))\n",
    "    if abs(X1-X0) < e: # Si el error es menor a e, termino\n",
    "        X1 = X0 - (f_valued_X0/derivative_valued_X0)\n",
    "        f_valued_X0_array.append(0)\n",
    "        derivative_valued_X0_array.append(0)\n",
    "        X0_array.append(X1)\n",
    "        error_array.append(abs(X1-X0))\n",
    "        break\n",
    "    X0 = X1\n",
    "\n",
    "print(\"La raíz es: \", X1)\n",
    "\n",
    "my_data = {\"X0\":X0_array, \"f(X0)\": f_valued_X0_array, \"f'(X0)\": derivative_valued_X0_array, \"error\": error_array}\n",
    "df  = pd.DataFrame(my_data)\n",
    "print(df)\n"
   ]
  },
  {
   "cell_type": "markdown",
   "metadata": {},
   "source": [
    "# Metodo de la Secante"
   ]
  },
  {
   "cell_type": "code",
   "execution_count": 1,
   "metadata": {},
   "outputs": [
    {
     "ename": "NameError",
     "evalue": "name 'symbols' is not defined",
     "output_type": "error",
     "traceback": [
      "\u001b[0;31m---------------------------------------------------------------------------\u001b[0m",
      "\u001b[0;31mNameError\u001b[0m                                 Traceback (most recent call last)",
      "\u001b[1;32m/home/matias/Documents/GitHub/analisis-numerico/raices_funciones.ipynb Cell 9\u001b[0m line \u001b[0;36m1\n\u001b[0;32m----> <a href='vscode-notebook-cell:/home/matias/Documents/GitHub/analisis-numerico/raices_funciones.ipynb#X11sZmlsZQ%3D%3D?line=0'>1</a>\u001b[0m x \u001b[39m=\u001b[39m symbols(\u001b[39m'\u001b[39m\u001b[39mx\u001b[39m\u001b[39m'\u001b[39m)\n\u001b[1;32m      <a href='vscode-notebook-cell:/home/matias/Documents/GitHub/analisis-numerico/raices_funciones.ipynb#X11sZmlsZQ%3D%3D?line=1'>2</a>\u001b[0m f_x \u001b[39m=\u001b[39m exp(\u001b[39m-\u001b[39mx)\u001b[39m-\u001b[39mx \u001b[39m#funcion\u001b[39;00m\n\u001b[1;32m      <a href='vscode-notebook-cell:/home/matias/Documents/GitHub/analisis-numerico/raices_funciones.ipynb#X11sZmlsZQ%3D%3D?line=2'>3</a>\u001b[0m e \u001b[39m=\u001b[39m \u001b[39m10\u001b[39m\u001b[39m*\u001b[39m\u001b[39m*\u001b[39m(\u001b[39m-\u001b[39m\u001b[39m3\u001b[39m)\n",
      "\u001b[0;31mNameError\u001b[0m: name 'symbols' is not defined"
     ]
    }
   ],
   "source": [
    "x = symbols('x')\n",
    "f_x = exp(-x)-x #funcion\n",
    "e = 10**(-3)\n",
    "iterations = int(input(\"Ingrese la cantidad de iteraciones: \"))\n",
    "X0 = float(input(\"Ingrese el valor de X0: \")) #Valor inicial de x0(first initial guess)\n",
    "X1 = float(input(\"Ingrese el valor de X1(mas grande que X0?): \")) #Valor inicial de x1(second initial guess)\n",
    "\n",
    "\n",
    "for i in range(iterations):\n",
    "    f_valued_X0 = f_x.subs(x,X0) #f(X0)\n",
    "    f_valued_X1 = f_x.subs(x,X1) #f(X1)\n",
    "    X2 = X1-f_valued_X1*((X1-X0)/(f_valued_X1-f_valued_X0)) #new X\n",
    "    X0, X1 = X1, X2\n",
    "    if abs(X1-X0) < e: # Si el error es menor a e, termino\n",
    "        print(\"La raíz es: \", X1)\n",
    "        break"
   ]
  },
  {
   "cell_type": "code",
   "execution_count": null,
   "metadata": {},
   "outputs": [],
   "source": []
  }
 ],
 "metadata": {
  "kernelspec": {
   "display_name": "analisis-matematico",
   "language": "python",
   "name": "python3"
  },
  "language_info": {
   "codemirror_mode": {
    "name": "ipython",
    "version": 3
   },
   "file_extension": ".py",
   "mimetype": "text/x-python",
   "name": "python",
   "nbconvert_exporter": "python",
   "pygments_lexer": "ipython3",
   "version": "3.10.12"
  },
  "orig_nbformat": 4
 },
 "nbformat": 4,
 "nbformat_minor": 2
}
