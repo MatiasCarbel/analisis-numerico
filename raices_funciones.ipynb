{
 "cells": [
  {
   "cell_type": "code",
   "execution_count": 2,
   "metadata": {},
   "outputs": [],
   "source": [
    "import pandas as pd\n",
    "import numpy as np\n",
    "from sympy import symbols, Eq, solve, diff, exp"
   ]
  },
  {
   "cell_type": "markdown",
   "metadata": {},
   "source": [
    "# Metodo de la Biseccion\n"
   ]
  },
  {
   "cell_type": "code",
   "execution_count": 5,
   "metadata": {},
   "outputs": [
    {
     "ename": "ValueError",
     "evalue": "could not convert string to float: ''",
     "output_type": "error",
     "traceback": [
      "\u001b[0;31m---------------------------------------------------------------------------\u001b[0m",
      "\u001b[0;31mValueError\u001b[0m                                Traceback (most recent call last)",
      "\u001b[1;32m/home/matias/Documents/GitHub/analisis-numerico/raices_funciones.ipynb Cell 3\u001b[0m line \u001b[0;36m4\n\u001b[1;32m      <a href='vscode-notebook-cell:/home/matias/Documents/GitHub/analisis-numerico/raices_funciones.ipynb#W2sZmlsZQ%3D%3D?line=1'>2</a>\u001b[0m func \u001b[39m=\u001b[39m \u001b[39minput\u001b[39m(\u001b[39m\"\u001b[39m\u001b[39mIngrese la función: \u001b[39m\u001b[39m\"\u001b[39m)\n\u001b[1;32m      <a href='vscode-notebook-cell:/home/matias/Documents/GitHub/analisis-numerico/raices_funciones.ipynb#W2sZmlsZQ%3D%3D?line=2'>3</a>\u001b[0m f \u001b[39m=\u001b[39m \u001b[39mlambda\u001b[39;00m x: \u001b[39meval\u001b[39m(func)\n\u001b[0;32m----> <a href='vscode-notebook-cell:/home/matias/Documents/GitHub/analisis-numerico/raices_funciones.ipynb#W2sZmlsZQ%3D%3D?line=3'>4</a>\u001b[0m a \u001b[39m=\u001b[39m \u001b[39mfloat\u001b[39;49m(\u001b[39minput\u001b[39;49m(\u001b[39m\"\u001b[39;49m\u001b[39mIngrese el valor de a:\u001b[39;49m\u001b[39m\"\u001b[39;49m))\n\u001b[1;32m      <a href='vscode-notebook-cell:/home/matias/Documents/GitHub/analisis-numerico/raices_funciones.ipynb#W2sZmlsZQ%3D%3D?line=4'>5</a>\u001b[0m b \u001b[39m=\u001b[39m \u001b[39mfloat\u001b[39m(\u001b[39minput\u001b[39m(\u001b[39m\"\u001b[39m\u001b[39mIngrese el valor de b:\u001b[39m\u001b[39m\"\u001b[39m))\n\u001b[1;32m      <a href='vscode-notebook-cell:/home/matias/Documents/GitHub/analisis-numerico/raices_funciones.ipynb#W2sZmlsZQ%3D%3D?line=5'>6</a>\u001b[0m e \u001b[39m=\u001b[39m \u001b[39m10\u001b[39m\u001b[39m*\u001b[39m\u001b[39m*\u001b[39m(\u001b[39m-\u001b[39m\u001b[39m3\u001b[39m)\n",
      "\u001b[0;31mValueError\u001b[0m: could not convert string to float: ''"
     ]
    }
   ],
   "source": [
    "\n",
    "#* Cambiar eval por sympy\n",
    "func = input(\"Ingrese la función: \")\n",
    "f = lambda x: eval(func)\n",
    "a = float(input(\"Ingrese el valor de a:\"))\n",
    "b = float(input(\"Ingrese el valor de b:\"))\n",
    "e = 10**(-3)\n",
    "print(\"Error default: \",e)\n",
    "array_a = []\n",
    "array_b = []\n",
    "array_c = []\n",
    "array_f_a = []\n",
    "array_f_c = []\n",
    "array_f_a_c = []\n",
    "array_error = []\n",
    "\n",
    "# Teorema de Bolzano\n",
    "if f(a)*f(b) > 0:\n",
    "    print(\"No hay raíz en el intervalo\")\n",
    "    exit()\n",
    "\n",
    "\n",
    "while True:\n",
    "    # busco un punto medio entre a y b\n",
    "    c = (a+b)/2\n",
    "    array_a.append(a)\n",
    "    array_b.append(b)\n",
    "    array_c.append(c)\n",
    "    array_error.append((b-a)/2)\n",
    "    array_f_a.append(f(a))\n",
    "    array_f_c.append(f(c))\n",
    "    array_f_a_c.append(f(a)*f(c))\n",
    "    if f(a)*f(c) < 0:   # si la raiz esta entre a y c cambio b por c\n",
    "        b = c\n",
    "    else: # si la raiz esta entre c y b cambio a por c\n",
    "        a = c\n",
    "    if (b-a)/2 < e: # si el error es menor a e, termino\n",
    "        break\n",
    "\n",
    "print(\"La raíz es: \", c)\n",
    "\n",
    "mydata = {\"a\":array_a, \"b\": array_b, \"c\": array_c, \"f(a)\": array_f_a, \"f(c)\": array_f_c, \"f(a)*f(c)\": array_f_a_c, \"error\": array_error}\n",
    "\n",
    "df = pd.DataFrame(mydata)\n",
    "\n",
    "print(df)\n"
   ]
  },
  {
   "cell_type": "markdown",
   "metadata": {},
   "source": [
    "# Metodo de Punto Fijo"
   ]
  },
  {
   "cell_type": "code",
   "execution_count": 6,
   "metadata": {},
   "outputs": [
    {
     "ename": "ValueError",
     "evalue": "could not convert string to float: ''",
     "output_type": "error",
     "traceback": [
      "\u001b[0;31m---------------------------------------------------------------------------\u001b[0m",
      "\u001b[0;31mValueError\u001b[0m                                Traceback (most recent call last)",
      "\u001b[1;32m/home/matias/Documents/GitHub/analisis-numerico/raices_funciones.ipynb Cell 5\u001b[0m line \u001b[0;36m1\n\u001b[0;32m----> <a href='vscode-notebook-cell:/home/matias/Documents/GitHub/analisis-numerico/raices_funciones.ipynb#W4sZmlsZQ%3D%3D?line=0'>1</a>\u001b[0m a \u001b[39m=\u001b[39m \u001b[39mfloat\u001b[39;49m(\u001b[39minput\u001b[39;49m(\u001b[39m\"\u001b[39;49m\u001b[39mIngrese el valor de a:\u001b[39;49m\u001b[39m\"\u001b[39;49m))\n\u001b[1;32m      <a href='vscode-notebook-cell:/home/matias/Documents/GitHub/analisis-numerico/raices_funciones.ipynb#W4sZmlsZQ%3D%3D?line=1'>2</a>\u001b[0m b \u001b[39m=\u001b[39m \u001b[39mfloat\u001b[39m(\u001b[39minput\u001b[39m(\u001b[39m\"\u001b[39m\u001b[39mIngrese el valor de b:\u001b[39m\u001b[39m\"\u001b[39m))\n\u001b[1;32m      <a href='vscode-notebook-cell:/home/matias/Documents/GitHub/analisis-numerico/raices_funciones.ipynb#W4sZmlsZQ%3D%3D?line=2'>3</a>\u001b[0m x \u001b[39m=\u001b[39m symbols(\u001b[39m'\u001b[39m\u001b[39mx\u001b[39m\u001b[39m'\u001b[39m)\n",
      "\u001b[0;31mValueError\u001b[0m: could not convert string to float: ''"
     ]
    }
   ],
   "source": [
    "a = float(input(\"Ingrese el valor de a:\"))\n",
    "b = float(input(\"Ingrese el valor de b:\"))\n",
    "x = symbols('x')\n",
    "f_x = exp(-x)-x\n",
    "g_x = f_x + x # Proponemos una g(x) que tenga un punto fijo en [a;b]. x = g(x) = f(x) + x\n",
    "e = 10**(-3)\n",
    "Xi_array = []\n",
    "gXi_array = []\n",
    "error_array = []  \n",
    "\n",
    "\n",
    "g_valued_a = g_x.subs(x,a) #g(a)\n",
    "g_valued_b = g_x.subs(x,b) #g(b)\n",
    "\n",
    "\n",
    "if  a<=g_valued_a<=b and a<=g_valued_b<=b : # Primera condicion de convergencia. g(a) y g(b) deben estar en [a;b]\n",
    "    derivative = diff(g_x,x) # Derivada de g(x) en base a x\n",
    "    value = (g_valued_a+g_valued_b)/2 # Valor inicial de x0\n",
    "    if abs(derivative.subs(x,value)) > 1: # Segunda condicion de convergencia. |g'(&)| < 1 con & en [a;b] y que maximice la derivada.\n",
    "        print(\"No  cumple con la condición 2\")\n",
    "        exit()\n",
    "\n",
    "else:\n",
    "    print(\"No  cumple con la condición 1\")\n",
    "    exit()\n",
    "\n",
    "while True:\n",
    "    g_xi = g_x.subs(x,value)\n",
    "    Xi_array.append(value)\n",
    "    gXi_array.append(g_xi)\n",
    "    error_array.append(abs(value-g_xi))\n",
    "    if abs(value-g_xi) < e:\n",
    "        break\n",
    "    value = g_xi\n",
    "\n",
    "\n",
    "\n",
    "print(\"La raíz es: \", value)\n",
    "\n",
    "my_data = {\"Xi\":Xi_array, \"g(Xi)\": gXi_array, \"error\": error_array}\n",
    "df  = pd.DataFrame(my_data)\n",
    "print(df)\n",
    "    "
   ]
  },
  {
   "cell_type": "markdown",
   "metadata": {},
   "source": [
    "# Metodo de Newton Raphson"
   ]
  },
  {
   "cell_type": "code",
   "execution_count": 14,
   "metadata": {},
   "outputs": [
    {
     "name": "stdout",
     "output_type": "stream",
     "text": [
      "La raíz es:  0.567143165034862\n",
      "                     X0                f(X0)             f'(X0)  \\\n",
      "0                  35.0    -35.0000000000000  -1.00000000000000   \n",
      "1  2.13162820728030e-14    0.999999999999957  -1.99999999999998   \n",
      "2     0.500000000000005    0.106530659712625  -1.60653065971263   \n",
      "3     0.566311003197218  0.00130450980601993  -1.56761551300324   \n",
      "4     0.567143165034862                    0                  0   \n",
      "\n",
      "                  error  \n",
      "0      35.0000000000000  \n",
      "1     0.499999999999984  \n",
      "2    0.0663110031972129  \n",
      "3  0.000832161837643897  \n",
      "4  0.000832161837643897  \n"
     ]
    }
   ],
   "source": [
    "# The idea is to start with an initial guess, then to approximate the function by its tangent line, \n",
    "# and finally to compute the x-intercept of this tangent line. This x-intercept will typically be a better approximation to the original function's root \n",
    "# than the first guess, and the method can be iterated.\n",
    "\n",
    "#! cuando pongo valores como 100 no funciona\n",
    "#* Agregar iteraciones\n",
    "x = symbols('x')\n",
    "f_x = exp(-x)-x #* funcion\n",
    "e = 10**(-3)\n",
    "f_valued_X0_array = []\n",
    "derivative_valued_X0_array = []\n",
    "X0_array = []\n",
    "error_array = []\n",
    "\n",
    "\n",
    "\n",
    "# f_valued_a = f_x.subs(x,a) #f(a)\n",
    "# f_valued_b = f_x.subs(x,b) #f(b)\n",
    "\n",
    "\n",
    "X0 = float(input(\"Ingrese el valor de X0: \")) #Valor inicial de x0(initial guess)\n",
    "derivative = diff(f_x,x) # Derivada de f(x) en base a x\n",
    "\n",
    "\n",
    "\n",
    "while True:\n",
    "    f_valued_X0 = f_x.subs(x,X0) #f(X0) \n",
    "    derivative_valued_X0 = derivative.subs(x,X0) #f'(X0)\n",
    "    X1 = X0 - (f_valued_X0/derivative_valued_X0) #new X\n",
    "    f_valued_X0_array.append(f_valued_X0)\n",
    "    derivative_valued_X0_array.append(derivative_valued_X0)\n",
    "    X0_array.append(X0)\n",
    "    error_array.append(abs(X1-X0))\n",
    "    if abs(X1-X0) < e: # Si el error es menor a e, termino\n",
    "        X1 = X0 - (f_valued_X0/derivative_valued_X0)\n",
    "        f_valued_X0_array.append(0)\n",
    "        derivative_valued_X0_array.append(0)\n",
    "        X0_array.append(X1)\n",
    "        error_array.append(abs(X1-X0))\n",
    "        break\n",
    "    X0 = X1\n",
    "\n",
    "print(\"La raíz es: \", X1)\n",
    "\n",
    "my_data = {\"X0\":X0_array, \"f(X0)\": f_valued_X0_array, \"f'(X0)\": derivative_valued_X0_array, \"error\": error_array}\n",
    "df  = pd.DataFrame(my_data)\n",
    "print(df)\n"
   ]
  },
  {
   "cell_type": "markdown",
   "metadata": {},
   "source": [
    "# Metodo de la Secante"
   ]
  },
  {
   "cell_type": "code",
   "execution_count": 1,
   "metadata": {},
   "outputs": [
    {
     "ename": "NameError",
     "evalue": "name 'symbols' is not defined",
     "output_type": "error",
     "traceback": [
      "\u001b[0;31m---------------------------------------------------------------------------\u001b[0m",
      "\u001b[0;31mNameError\u001b[0m                                 Traceback (most recent call last)",
      "\u001b[1;32m/home/matias/Documents/GitHub/analisis-numerico/raices_funciones.ipynb Cell 9\u001b[0m line \u001b[0;36m1\n\u001b[0;32m----> <a href='vscode-notebook-cell:/home/matias/Documents/GitHub/analisis-numerico/raices_funciones.ipynb#X11sZmlsZQ%3D%3D?line=0'>1</a>\u001b[0m x \u001b[39m=\u001b[39m symbols(\u001b[39m'\u001b[39m\u001b[39mx\u001b[39m\u001b[39m'\u001b[39m)\n\u001b[1;32m      <a href='vscode-notebook-cell:/home/matias/Documents/GitHub/analisis-numerico/raices_funciones.ipynb#X11sZmlsZQ%3D%3D?line=1'>2</a>\u001b[0m f_x \u001b[39m=\u001b[39m exp(\u001b[39m-\u001b[39mx)\u001b[39m-\u001b[39mx \u001b[39m#funcion\u001b[39;00m\n\u001b[1;32m      <a href='vscode-notebook-cell:/home/matias/Documents/GitHub/analisis-numerico/raices_funciones.ipynb#X11sZmlsZQ%3D%3D?line=2'>3</a>\u001b[0m e \u001b[39m=\u001b[39m \u001b[39m10\u001b[39m\u001b[39m*\u001b[39m\u001b[39m*\u001b[39m(\u001b[39m-\u001b[39m\u001b[39m3\u001b[39m)\n",
      "\u001b[0;31mNameError\u001b[0m: name 'symbols' is not defined"
     ]
    }
   ],
   "source": [
    "x = symbols('x')\n",
    "f_x = exp(-x)-x #funcion\n",
    "e = 10**(-3)\n",
    "iterations = int(input(\"Ingrese la cantidad de iteraciones: \"))\n",
    "X0 = float(input(\"Ingrese el valor de X0: \")) #Valor inicial de x0(first initial guess)\n",
    "X1 = float(input(\"Ingrese el valor de X1(mas grande que X0?): \")) #Valor inicial de x1(second initial guess)\n",
    "\n",
    "\n",
    "for i in range(iterations):\n",
    "    f_valued_X0 = f_x.subs(x,X0) #f(X0)\n",
    "    f_valued_X1 = f_x.subs(x,X1) #f(X1)\n",
    "    X2 = X1-f_valued_X1*((X1-X0)/(f_valued_X1-f_valued_X0)) #new X\n",
    "    X0, X1 = X1, X2\n",
    "    if abs(X1-X0) < e: # Si el error es menor a e, termino\n",
    "        print(\"La raíz es: \", X1)\n",
    "        break"
   ]
  },
  {
   "cell_type": "code",
   "execution_count": null,
   "metadata": {},
   "outputs": [],
   "source": []
  }
 ],
 "metadata": {
  "kernelspec": {
   "display_name": "analisis-matematico",
   "language": "python",
   "name": "python3"
  },
  "language_info": {
   "codemirror_mode": {
    "name": "ipython",
    "version": 3
   },
   "file_extension": ".py",
   "mimetype": "text/x-python",
   "name": "python",
   "nbconvert_exporter": "python",
   "pygments_lexer": "ipython3",
   "version": "3.10.12"
  },
  "orig_nbformat": 4
 },
 "nbformat": 4,
 "nbformat_minor": 2
}
