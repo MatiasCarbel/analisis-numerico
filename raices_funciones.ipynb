{
 "cells": [
  {
   "cell_type": "code",
   "execution_count": 2,
   "metadata": {},
   "outputs": [],
   "source": [
    "import pandas as pd\n",
    "import numpy as np\n",
    "from sympy import symbols, Eq, solve, diff, exp"
   ]
  },
  {
   "cell_type": "markdown",
   "metadata": {},
   "source": [
    "# Metodo de la Biseccion\n"
   ]
  },
  {
   "cell_type": "code",
   "execution_count": 17,
   "metadata": {},
   "outputs": [
    {
     "name": "stdout",
     "output_type": "stream",
     "text": [
      "Error default:  0.001\n",
      "La raíz es:  1.414794921875\n",
      "           a          b         c      f(a)       f(c)  f(a)*f(c)     error\n",
      "0   0.000000  10.000000  5.000000 -2.000000  23.000000 -46.000000  5.000000\n",
      "1   0.000000   5.000000  2.500000 -2.000000   4.250000  -8.500000  2.500000\n",
      "2   0.000000   2.500000  1.250000 -2.000000  -0.437500   0.875000  1.250000\n",
      "3   1.250000   2.500000  1.875000 -0.437500   1.515625  -0.663086  0.625000\n",
      "4   1.250000   1.875000  1.562500 -0.437500   0.441406  -0.193115  0.312500\n",
      "5   1.250000   1.562500  1.406250 -0.437500  -0.022461   0.009827  0.156250\n",
      "6   1.406250   1.562500  1.484375 -0.022461   0.203369  -0.004568  0.078125\n",
      "7   1.406250   1.484375  1.445312 -0.022461   0.088928  -0.001997  0.039062\n",
      "8   1.406250   1.445312  1.425781 -0.022461   0.032852  -0.000738  0.019531\n",
      "9   1.406250   1.425781  1.416016 -0.022461   0.005100  -0.000115  0.009766\n",
      "10  1.406250   1.416016  1.411133 -0.022461  -0.008704   0.000196  0.004883\n",
      "11  1.411133   1.416016  1.413574 -0.008704  -0.001808   0.000016  0.002441\n",
      "12  1.413574   1.416016  1.414795 -0.001808   0.001645  -0.000003  0.001221\n"
     ]
    }
   ],
   "source": [
    "\n",
    "#* Cambiar eval por sympy\n",
    "func = input(\"Ingrese la función: \")\n",
    "f = lambda x: eval(func)\n",
    "a = float(input(\"Ingrese el valor de a:\"))\n",
    "b = float(input(\"Ingrese el valor de b:\"))\n",
    "e = 10**(-3)\n",
    "print(\"Error default: \",e)\n",
    "array_a = []\n",
    "array_b = []\n",
    "array_c = []\n",
    "array_f_a = []\n",
    "array_f_c = []\n",
    "array_f_a_c = []\n",
    "array_error = []\n",
    "\n",
    "# Teorema de Bolzano\n",
    "if f(a)*f(b) > 0:\n",
    "    print(\"No hay raíz en el intervalo\")\n",
    "    exit()\n",
    "\n",
    "\n",
    "while True:\n",
    "    # busco un punto medio entre a y b\n",
    "    c = (a+b)/2\n",
    "    array_a.append(a)\n",
    "    array_b.append(b)\n",
    "    array_c.append(c)\n",
    "    array_error.append((b-a)/2)\n",
    "    array_f_a.append(f(a))\n",
    "    array_f_c.append(f(c))\n",
    "    array_f_a_c.append(f(a)*f(c))\n",
    "    if f(a)*f(c) < 0:   # si la raiz esta entre a y c cambio b por c\n",
    "        b = c\n",
    "    else: # si la raiz esta entre c y b cambio a por c\n",
    "        a = c\n",
    "    if (b-a)/2 < e: # si el error es menor a e, termino\n",
    "        break\n",
    "\n",
    "print(\"La raíz es: \", c)\n",
    "\n",
    "mydata = {\"a\":array_a, \"b\": array_b, \"c\": array_c, \"f(a)\": array_f_a, \"f(c)\": array_f_c, \"f(a)*f(c)\": array_f_a_c, \"error\": array_error}\n",
    "\n",
    "df = pd.DataFrame(mydata)\n",
    "\n",
    "print(df)\n"
   ]
  },
  {
   "cell_type": "markdown",
   "metadata": {},
   "source": [
    "# Metodo de Punto Fijo"
   ]
  },
  {
   "cell_type": "code",
   "execution_count": 3,
   "metadata": {},
   "outputs": [
    {
     "name": "stdout",
     "output_type": "stream",
     "text": [
      "La raíz es:  0.567559490567443\n",
      "                  Xi              g(Xi)                 error\n",
      "0  0.500022699964881  0.606516891644227     0.106494191679345\n",
      "1  0.606516891644227  0.545246718835050    0.0612701728091760\n",
      "2  0.545246718835050  0.579698743096634    0.0344520242615833\n",
      "3  0.579698743096634  0.560067065223055    0.0196316778735788\n",
      "4  0.560067065223055  0.571170756870084    0.0111036916470292\n",
      "5  0.571170756870084  0.564863733330607   0.00630702353947699\n",
      "6  0.564863733330607  0.568437600578822   0.00357386724821473\n",
      "7  0.568437600578822  0.566409705927043   0.00202789465177855\n",
      "8  0.566409705927043  0.567559490567443   0.00114978464039939\n",
      "9  0.567559490567443  0.566907294397096  0.000652196170347175\n"
     ]
    }
   ],
   "source": [
    "a = float(input(\"Ingrese el valor de a:\"))\n",
    "b = float(input(\"Ingrese el valor de b:\"))\n",
    "x = symbols('x')\n",
    "f_x = exp(-x)-x\n",
    "g_x = f_x + x # Proponemos una g(x) que tenga un punto fijo en [a;b]. x = g(x) = f(x) + x\n",
    "e = 10**(-3)\n",
    "Xi_array = []\n",
    "gXi_array = []\n",
    "error_array = []  \n",
    "\n",
    "\n",
    "g_valued_a = g_x.subs(x,a) #g(a)\n",
    "g_valued_b = g_x.subs(x,b) #g(b)\n",
    "\n",
    "\n",
    "if  a<=g_valued_a<=b and a<=g_valued_b<=b : # Primera condicion de convergencia. g(a) y g(b) deben estar en [a;b]\n",
    "    derivative = diff(g_x,x) # Derivada de g(x) en base a x\n",
    "    value = (g_valued_a+g_valued_b)/2 # Valor inicial de x0\n",
    "    if abs(derivative.subs(x,value)) > 1: # Segunda condicion de convergencia. |g'(&)| < 1 con & en [a;b] y que maximice la derivada.\n",
    "        print(\"No  cumple con la condición 2\")\n",
    "        exit()\n",
    "\n",
    "else:\n",
    "    print(\"No  cumple con la condición 1\")\n",
    "    exit()\n",
    "\n",
    "while True:\n",
    "    g_xi = g_x.subs(x,value)\n",
    "    Xi_array.append(value)\n",
    "    gXi_array.append(g_xi)\n",
    "    error_array.append(abs(value-g_xi))\n",
    "    if abs(value-g_xi) < e:\n",
    "        break\n",
    "    value = g_xi\n",
    "\n",
    "\n",
    "\n",
    "print(\"La raíz es: \", value)\n",
    "\n",
    "my_data = {\"Xi\":Xi_array, \"g(Xi)\": gXi_array, \"error\": error_array}\n",
    "df  = pd.DataFrame(my_data)\n",
    "print(df)\n",
    "    "
   ]
  },
  {
   "cell_type": "markdown",
   "metadata": {},
   "source": [
    "# Metodo de Newton Raphson"
   ]
  },
  {
   "cell_type": "code",
   "execution_count": 12,
   "metadata": {},
   "outputs": [
    {
     "name": "stdout",
     "output_type": "stream",
     "text": [
      "La raíz es:  -(-1/2 + (-1/2 + exp(-1/2))/(-1 - exp(-1/2)) + exp(-1/2 + (-1/2 + exp(-1/2))/(-1 - exp(-1/2))))/(-1 - exp(-1/2 + (-1/2 + exp(-1/2))/(-1 - exp(-1/2)))) - (-1/2 + exp(-1/2))/(-1 - exp(-1/2)) + 1/2\n",
      "                                                  X0  \\\n",
      "0                                               45.0   \n",
      "1                                                  0   \n",
      "2                                                1/2   \n",
      "3         -(-1/2 + exp(-1/2))/(-1 - exp(-1/2)) + 1/2   \n",
      "4  -(-1/2 + (-1/2 + exp(-1/2))/(-1 - exp(-1/2)) +...   \n",
      "\n",
      "                                               f(X0)  \\\n",
      "0                                  -45.0000000000000   \n",
      "1                                                  1   \n",
      "2                                   -1/2 + exp(-1/2)   \n",
      "3  -1/2 + (-1/2 + exp(-1/2))/(-1 - exp(-1/2)) + e...   \n",
      "4                                                  0   \n",
      "\n",
      "                                              f'(X0)  \\\n",
      "0                                  -1.00000000000000   \n",
      "1                                                 -2   \n",
      "2                                     -1 - exp(-1/2)   \n",
      "3  -1 - exp(-1/2 + (-1/2 + exp(-1/2))/(-1 - exp(-...   \n",
      "4                                                  0   \n",
      "\n",
      "                                               error  \n",
      "0                                   45.0000000000000  \n",
      "1                                                1/2  \n",
      "2                 (-1/2 + exp(-1/2))/(exp(-1/2) + 1)  \n",
      "3  (-1/2 + (1/2 - exp(-1/2))/(exp(-1/2) + 1) + ex...  \n",
      "4  (-1/2 + (1/2 - exp(-1/2))/(exp(-1/2) + 1) + ex...  \n"
     ]
    }
   ],
   "source": [
    "# The idea is to start with an initial guess, then to approximate the function by its tangent line, \n",
    "# and finally to compute the x-intercept of this tangent line. This x-intercept will typically be a better approximation to the original function's root \n",
    "# than the first guess, and the method can be iterated.\n",
    "\n",
    "#! cuando pongo valores como 100 no funciona\n",
    "#* Agregar iteraciones\n",
    "x = symbols('x')\n",
    "f_x = exp(-x)-x #funcion\n",
    "e = 10**(-3)\n",
    "f_valued_X0_array = []\n",
    "derivative_valued_X0_array = []\n",
    "X0_array = []\n",
    "error_array = []\n",
    "\n",
    "\n",
    "\n",
    "f_valued_a = f_x.subs(x,a) #f(a)\n",
    "f_valued_b = f_x.subs(x,b) #f(b)\n",
    "\n",
    "\n",
    "X0 = float(input(\"Ingrese el valor de X0: \")) #Valor inicial de x0(initial guess)\n",
    "derivative = diff(f_x,x) # Derivada de f(x) en base a x\n",
    "\n",
    "\n",
    "\n",
    "while True:\n",
    "    f_valued_X0 = f_x.subs(x,X0) #f(X0) \n",
    "    derivative_valued_X0 = derivative.subs(x,X0) #f'(X0)\n",
    "    X1 = X0 - (f_valued_X0/derivative_valued_X0) #new X\n",
    "    f_valued_X0_array.append(f_valued_X0)\n",
    "    derivative_valued_X0_array.append(derivative_valued_X0)\n",
    "    X0_array.append(X0)\n",
    "    error_array.append(abs(X1-X0))\n",
    "    if abs(X1-X0) < e: # Si el error es menor a e, termino\n",
    "        X1 = X0 - (f_valued_X0/derivative_valued_X0)\n",
    "        f_valued_X0_array.append(0)\n",
    "        derivative_valued_X0_array.append(0)\n",
    "        X0_array.append(X1)\n",
    "        error_array.append(abs(X1-X0))\n",
    "        break\n",
    "    X0 = X1\n",
    "\n",
    "print(\"La raíz es: \", X1)\n",
    "\n",
    "my_data = {\"X0\":X0_array, \"f(X0)\": f_valued_X0_array, \"f'(X0)\": derivative_valued_X0_array, \"error\": error_array}\n",
    "df  = pd.DataFrame(my_data)\n",
    "print(df)\n"
   ]
  },
  {
   "cell_type": "markdown",
   "metadata": {},
   "source": [
    "# Metodo de la Secante"
   ]
  },
  {
   "cell_type": "code",
   "execution_count": 14,
   "metadata": {},
   "outputs": [
    {
     "name": "stdout",
     "output_type": "stream",
     "text": [
      "La raíz es:  0.567143288277394\n"
     ]
    }
   ],
   "source": [
    "x = symbols('x')\n",
    "f_x = exp(-x)-x #funcion\n",
    "e = 10**(-3)\n",
    "iterations = int(input(\"Ingrese la cantidad de iteraciones: \"))\n",
    "X0 = float(input(\"Ingrese el valor de X0: \")) #Valor inicial de x0(first initial guess)\n",
    "X1 = float(input(\"Ingrese el valor de X1(mas grande que X0?): \")) #Valor inicial de x1(second initial guess)\n",
    "\n",
    "\n",
    "for i in range(iterations):\n",
    "    f_valued_X0 = f_x.subs(x,X0) #f(X0)\n",
    "    f_valued_X1 = f_x.subs(x,X1) #f(X1)\n",
    "    X2 = X1-f_valued_X1*((X1-X0)/(f_valued_X1-f_valued_X0)) #new X\n",
    "    X0, X1 = X1, X2\n",
    "    if abs(X1-X0) < e: # Si el error es menor a e, termino\n",
    "        print(\"La raíz es: \", X1)\n",
    "        break"
   ]
  }
 ],
 "metadata": {
  "kernelspec": {
   "display_name": "analisis-matematico",
   "language": "python",
   "name": "python3"
  },
  "language_info": {
   "codemirror_mode": {
    "name": "ipython",
    "version": 3
   },
   "file_extension": ".py",
   "mimetype": "text/x-python",
   "name": "python",
   "nbconvert_exporter": "python",
   "pygments_lexer": "ipython3",
   "version": "3.10.12"
  },
  "orig_nbformat": 4
 },
 "nbformat": 4,
 "nbformat_minor": 2
}
